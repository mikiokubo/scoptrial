{
 "cells": [
  {
   "cell_type": "markdown",
   "metadata": {},
   "source": [
    "# SCOP Trial \n",
    "\n",
    "> SCOP (SOlver for Constraint Programming) trial "
   ]
  },
  {
   "cell_type": "markdown",
   "metadata": {},
   "source": [
    "## How to Install to Jupyter Notebook (Labo) and/or Google Colaboratory"
   ]
  },
  {
   "cell_type": "markdown",
   "metadata": {},
   "source": [
    "1. Clone from github:\n",
    "\n",
    "> `!git clone https://github.com/mikiokubo/scoptrial.git`\n",
    "\n",
    "2. Move to scoptrial directry:\n",
    "\n",
    "> `cd scoptrial`\n",
    "\n",
    "3. Change mode of execution file\n",
    "\n",
    " - for linux (Google Colab.)  \n",
    " > `!chmod +x scop-linux`   \n",
    "\n",
    " - for Mac \n",
    " > `!chmod +x scop-mac`  \n",
    "\n",
    "4. Import package and write a code:\n",
    "\n",
    "> `from scoptrial.scop import *`\n",
    "\n",
    "5. (Option) Install other packages if necessarily: \n",
    "\n",
    "> `!pip install plotly`\n",
    "\n"
   ]
  },
  {
   "cell_type": "markdown",
   "metadata": {},
   "source": [
    "## How to use"
   ]
  },
  {
   "cell_type": "markdown",
   "metadata": {},
   "source": [
    "See https://mikiokubo.github.io/scoptrial/  and  https://www.logopt.com/scop2/ \n",
    "\n",
    "Here is an example. "
   ]
  },
  {
   "cell_type": "code",
   "execution_count": null,
   "metadata": {},
   "outputs": [],
   "source": [
    "from scoptrial.scop import *"
   ]
  },
  {
   "cell_type": "code",
   "execution_count": null,
   "metadata": {},
   "outputs": [],
   "source": [
    "'''\n",
    "Example 1 (Assignment Problem):\n",
    "Three jobs (0,1,2) must be assigned to three workers (A,B,C)\n",
    "so that each job is assigned to exactly one worker.\n",
    "The cost matrix is represented by the list of lists\n",
    "Cost=[[15, 20, 30],\n",
    "      [7, 15, 12],\n",
    "      [25,10,13]],\n",
    "where rows of the matrix are workers, and columns are jobs.\n",
    "Find the minimum cost assignment of workers to jobs.\n",
    "'''\n",
    "\n",
    "workers=['A','B','C']\n",
    "Jobs   =[0,1,2]\n",
    "Cost={ ('A',0):15, ('A',1):20, ('A',2):30,\n",
    "       ('B',0): 7, ('B',1):15, ('B',2):12,\n",
    "       ('C',0):25, ('C',1):10, ('C',2):13 }\n",
    "\n",
    "m=Model()\n",
    "x={}\n",
    "for i in workers:\n",
    "    x[i]=m.addVariable(name=i,domain=Jobs)\n",
    "\n",
    "xlist=[]\n",
    "for i in x:\n",
    "    xlist.append(x[i])\n",
    "\n",
    "con1=Alldiff('AD',xlist,weight='inf')\n",
    "\n",
    "con2=Linear('linear_constraint',weight=1,rhs=0,direction='<=')\n",
    "for i in workers:\n",
    "    for j in Jobs:\n",
    "        con2.addTerms(Cost[i,j],x[i],j)\n",
    "\n",
    "m.addConstraint(con1)\n",
    "m.addConstraint(con2)\n",
    "\n",
    "print(m)\n",
    "\n",
    "m.Params.TimeLimit=1\n",
    "sol,violated=m.optimize()\n",
    "\n",
    "if m.Status==0:\n",
    "    print('solution')\n",
    "    for x in sol:\n",
    "        print (x,sol[x])\n",
    "    print ('violated constraint(s)')\n",
    "    for v in violated:\n",
    "        print (v,violated[v])"
   ]
  }
 ],
 "metadata": {
  "kernelspec": {
   "display_name": "Python 3",
   "language": "python",
   "name": "python3"
  },
  "language_info": {
   "codemirror_mode": {
    "name": "ipython",
    "version": 3
   },
   "file_extension": ".py",
   "mimetype": "text/x-python",
   "name": "python",
   "nbconvert_exporter": "python",
   "pygments_lexer": "ipython3",
   "version": "3.8.3"
  }
 },
 "nbformat": 4,
 "nbformat_minor": 4
}
